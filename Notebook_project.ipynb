{
    "cells": [
        {
            "cell_type": "markdown",
            "metadata": {
                "collapsed": true
            },
            "source": "<H1>My Jupyter Notebook on IBM Watson Studio<H1>"
        },
        {
            "cell_type": "markdown",
            "metadata": {},
            "source": "<b>Ramsha Akhter</b><br>\nStudent"
        },
        {
            "cell_type": "markdown",
            "metadata": {},
            "source": "<i>I am interested in data science because I like playing with data.<i>"
        },
        {
            "cell_type": "markdown",
            "metadata": {},
            "source": "<H3>The following code concatenates two strings<H3>"
        },
        {
            "cell_type": "code",
            "execution_count": 6,
            "metadata": {},
            "outputs": [
                {
                    "data": {
                        "text/plain": "'Hello there'"
                    },
                    "execution_count": 6,
                    "metadata": {},
                    "output_type": "execute_result"
                }
            ],
            "source": "\"Hello\" + \" there\""
        },
        {
            "cell_type": "markdown",
            "metadata": {},
            "source": "\n<html>\n<head>\n\t<title>TABLE</title>\n                   <link ref=\"first\" href=\"CSS/first.css\">\n</head>\n<body>\n\t    <section>\n\t<ol>\n\t\t<li>One</li>\n\t\t<li>Two</li>\n        <li>Three</li>\n\t\t<li>Four</li>\n\t</ol>\n    </section>\n     <section>\n\t<ul>\n\t\t<li>Three</li>\n\t\t<li>Four</li>\n\t</ul>\n    </section>\n    <table border=\"2\">\n\t\t<tr>\n\t\t\t<th>SNO</th>\n\t\t\t<th>NAME</th>\n\t\t</tr>\n\t\t<tr>\n\t\t\t<td>1</td>\n\t\t\t<td>Ramsha</td>\n\t\t</tr>\n\t\t<tr>\n\t\t\t<td>2</td>\n\t\t\t<td>Akhter</td>\n\t\t</tr>\n\t</table>\n</body>\n</html>"
        },
        {
            "cell_type": "code",
            "execution_count": null,
            "metadata": {},
            "outputs": [],
            "source": ""
        }
    ],
    "metadata": {
        "kernelspec": {
            "display_name": "Python 3.6",
            "language": "python",
            "name": "python3"
        },
        "language_info": {
            "codemirror_mode": {
                "name": "ipython",
                "version": 3
            },
            "file_extension": ".py",
            "mimetype": "text/x-python",
            "name": "python",
            "nbconvert_exporter": "python",
            "pygments_lexer": "ipython3",
            "version": "3.6.9"
        }
    },
    "nbformat": 4,
    "nbformat_minor": 1
}